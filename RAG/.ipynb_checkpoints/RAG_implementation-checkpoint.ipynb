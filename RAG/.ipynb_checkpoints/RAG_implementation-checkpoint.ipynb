{
 "cells": [
  {
   "cell_type": "markdown",
   "id": "047a643c-c325-428e-999e-fc82dee99f03",
   "metadata": {},
   "source": [
    "#### **This is the tutorial from LangChain on RAG implementation**"
   ]
  },
  {
   "cell_type": "markdown",
   "id": "ce8c40ff-9956-499c-a4cf-eb070185caee",
   "metadata": {},
   "source": [
    "Two main components of RAG:\n",
    "1) Indexing: A pipeline for ingesting data from a source and indexing it. This usually happens offline.\n",
    "2) Retrieval and generation: The actual RAG chain, which takes the user query to run time and retrieves the relevant data from the index, then passes that to the model."
   ]
  },
  {
   "cell_type": "markdown",
   "id": "50b64283-4a1a-4a5c-852d-91d34c44757a",
   "metadata": {},
   "source": [
    "Indexing:\n",
    "1) Load: First we need to load our data. This is done through document loaders.\n",
    "2) Split: Text splitters break large Documents into smaller chunks. This is useful both for indexing data and passing it into a model, as large chunks are harder to search over and won't fit in a model's finite context window.\n",
    "3) Store: We need somewhere to store and index our splits, so that they can be searched over later. This is often done using a vectorStore and Embeddings model.\n",
    "\n",
    "\n",
    "Retrieval and Generation:\n",
    "4) Retrieve: Given a user input, relevant splits are retrieved from storage using a Retriever.\n",
    "5) Generate: A chatModel/LLM produces an answer using a prompt that includes both the question with the retrieved data."
   ]
  },
  {
   "cell_type": "code",
   "execution_count": 1,
   "id": "0ffd2913-16c1-441f-996a-5a0efa6d0842",
   "metadata": {},
   "outputs": [
    {
     "name": "stdin",
     "output_type": "stream",
     "text": [
      " ········\n"
     ]
    }
   ],
   "source": [
    "import getpass\n",
    "import os\n",
    "\n",
    "os.environ[\"LANGSMITH_TRACING\"] = \"true\"\n",
    "os.environ[\"LANGSMITH_API_KEY\"] = getpass.getpass()"
   ]
  },
  {
   "cell_type": "markdown",
   "id": "bc74ee33-bf35-469d-b795-63ddf68c1966",
   "metadata": {},
   "source": [
    "#### **Load Content From Website and split into chuncks**"
   ]
  },
  {
   "cell_type": "code",
   "execution_count": 6,
   "id": "a60f6579-96bb-488a-835f-c4c59ad90da0",
   "metadata": {},
   "outputs": [],
   "source": [
    "import bs4\n",
    "from langchain import hub\n",
    "from langchain_community.document_loaders import WebBaseLoader\n",
    "from langchain_core.documents import Document\n",
    "from langchain_text_splitters import RecursiveCharacterTextSplitter\n",
    "from typing_extensions import List, TypedDict\n",
    "\n",
    "\n",
    "loader = WebBaseLoader(\n",
    "    web_paths=(\"https://lilianweng.github.io/posts/2023-06-23-agent/\",),\n",
    "    bs_kwargs=dict(\n",
    "        parse_only=bs4.SoupStrainer(\n",
    "            class_=(\"post-content\", \"post-title\", \"post-header\")\n",
    "        )\n",
    "    ),\n",
    ")\n",
    "\n",
    "docs = loader.load()"
   ]
  },
  {
   "cell_type": "code",
   "execution_count": 8,
   "id": "dce1af7d-c3e7-4f28-8cca-528a745b24d2",
   "metadata": {},
   "outputs": [],
   "source": [
    "# Creates text splitter with specific parameters:\n",
    "\n",
    "# chunk_size=1000 - Each chunk max 1000 characters\n",
    "# chunk_overlap=200 - 200 character overlap between chunks (preserves context)\n",
    "\n",
    "\n",
    "text_splitter = RecursiveCharacterTextSplitter(\n",
    "    chunk_size=1000, \n",
    "    chunk_overlap=200\n",
    ")"
   ]
  },
  {
   "cell_type": "code",
   "execution_count": 9,
   "id": "f22c8b7b-92be-4d4b-9a27-65f08da20a78",
   "metadata": {},
   "outputs": [],
   "source": [
    "all_splits = text_splitter.split_documents(docs)"
   ]
  },
  {
   "cell_type": "code",
   "execution_count": 11,
   "id": "5179c413-0862-4932-9249-dd9f614361d0",
   "metadata": {},
   "outputs": [
    {
     "data": {
      "text/plain": [
       "63"
      ]
     },
     "execution_count": 11,
     "metadata": {},
     "output_type": "execute_result"
    }
   ],
   "source": [
    "len(all_splits)"
   ]
  },
  {
   "cell_type": "markdown",
   "id": "389939b3-f1f3-4350-85d4-e2b0eafeb45f",
   "metadata": {},
   "source": [
    "#### **Store the embedding of splits in local vector database**"
   ]
  },
  {
   "cell_type": "markdown",
   "id": "43147e6b-ab0d-4f2a-a8e8-ebb4f01fcba9",
   "metadata": {},
   "source": [
    "Here's the data formatted as a proper Markdown table:\n",
    "\n",
    "| Vector Store | Type | Persistence | Scale | Use Case |\n",
    "|--------------|------|-------------|-------|----------|\n",
    "| InMemoryVectorStore | Local | ❌ No | Small | Development/Testing |\n",
    "| FAISS | Local | ✅ Files | Medium | Local production |\n",
    "| Chroma | Local | ✅ SQLite | Medium | Development |\n",
    "| Pinecone | Cloud | ✅ Managed | Large | Production |\n",
    "| Weaviate | Cloud/Self | ✅ Managed | Large | Production |\n",
    "| PGVector | Database | ✅ SQL | Large | Existing PostgreSQL |\n",
    "| Redis | In-Memory | ✅ Optional | Medium | Fast access |"
   ]
  },
  {
   "cell_type": "code",
   "execution_count": 14,
   "id": "44b909bf-398e-42ca-aca1-1380a0bbf157",
   "metadata": {},
   "outputs": [],
   "source": [
    "from langchain_core.vectorstores import InMemoryVectorStore\n",
    "\n",
    "from langchain_openai import OpenAIEmbeddings\n",
    "\n",
    "embeddings = OpenAIEmbeddings(\n",
    "    model=\"text-embedding-3-large\"\n",
    ")\n",
    "\n",
    "vector_store = InMemoryVectorStore(embeddings)\n",
    "_ = vector_store.add_documents(documents=all_splits)\n"
   ]
  },
  {
   "cell_type": "markdown",
   "id": "87a27d26-b56f-4492-965c-8951525955db",
   "metadata": {},
   "source": [
    "#### **Pull prebuilt Question Answering template**"
   ]
  },
  {
   "cell_type": "code",
   "execution_count": 15,
   "id": "8bfa7056-e182-40b3-b032-249e7c0cc423",
   "metadata": {},
   "outputs": [],
   "source": [
    "from langchain import hub\n",
    "\n",
    "prompt = hub.pull(\"rlm/rag-prompt\")"
   ]
  },
  {
   "cell_type": "code",
   "execution_count": 16,
   "id": "756f9e36-3729-4649-82f4-618451f8272a",
   "metadata": {},
   "outputs": [
    {
     "data": {
      "text/plain": [
       "ChatPromptTemplate(input_variables=['context', 'question'], input_types={}, partial_variables={}, metadata={'lc_hub_owner': 'rlm', 'lc_hub_repo': 'rag-prompt', 'lc_hub_commit_hash': '50442af133e61576e74536c6556cefe1fac147cad032f4377b60c436e6cdcb6e'}, messages=[HumanMessagePromptTemplate(prompt=PromptTemplate(input_variables=['context', 'question'], input_types={}, partial_variables={}, template=\"You are an assistant for question-answering tasks. Use the following pieces of retrieved context to answer the question. If you don't know the answer, just say that you don't know. Use three sentences maximum and keep the answer concise.\\nQuestion: {question} \\nContext: {context} \\nAnswer:\"), additional_kwargs={})])"
      ]
     },
     "execution_count": 16,
     "metadata": {},
     "output_type": "execute_result"
    }
   ],
   "source": [
    "prompt"
   ]
  },
  {
   "cell_type": "markdown",
   "id": "8f9d4048-395f-4159-9596-bd9ce63b04ac",
   "metadata": {},
   "source": [
    "#### **Stateful Workflow**"
   ]
  },
  {
   "cell_type": "code",
   "execution_count": 17,
   "id": "37a0c2f0-0605-4a5c-be64-5f58324dff6a",
   "metadata": {},
   "outputs": [],
   "source": [
    "# Define state for application\n",
    "\n",
    "from langchain.chat_models import init_chat_model\n",
    "\n",
    "llm = init_chat_model(\"gpt-4o-mini\", model_provider=\"openai\")\n",
    "\n",
    "\n",
    "\n",
    "class State(TypedDict):\n",
    "    question: str\n",
    "    context: List[Document]\n",
    "    answer: str\n",
    "\n",
    "\n",
    "# Define application steps\n",
    "def retrieve(state: State):\n",
    "    retrieved_docs = vector_store.similarity_search(\n",
    "        state[\"question\"]\n",
    "    )\n",
    "    return {\"context\": retrieved_docs}\n",
    "\n",
    "\n",
    "def generate(state: State):\n",
    "    docs_content = \"\\n\\n\".join(doc.page_content for doc in state[\"context\"])\n",
    "    messages = prompt.invoke(\n",
    "        {\"question\": state[\"question\"],\n",
    "         \"context\": docs_content\n",
    "        })\n",
    "    response = llm.invoke(messages)\n",
    "    return {\"answer\": response.content}\n"
   ]
  },
  {
   "cell_type": "code",
   "execution_count": 19,
   "id": "3c350c05-fdb5-429f-81ee-3f6f17e7aae7",
   "metadata": {},
   "outputs": [],
   "source": [
    "from langgraph.graph import START, StateGraph\n",
    "\n",
    "\n",
    "graph_builder = StateGraph(State).add_sequence([retrieve, generate])\n",
    "graph_builder.add_edge(START, \"retrieve\")\n",
    "graph = graph_builder.compile()"
   ]
  },
  {
   "cell_type": "code",
   "execution_count": 21,
   "id": "52712ac8-7b82-44e7-ab14-7955d3bd80bf",
   "metadata": {},
   "outputs": [
    {
     "data": {
      "image/png": "[encoded data removed]",
      "text/plain": [
       "<IPython.core.display.Image object>"
      ]
     },
     "metadata": {},
     "output_type": "display_data"
    }
   ],
   "source": [
    "from IPython.display import Image, display\n",
    "\n",
    "display(Image(graph.get_graph().draw_mermaid_png()))"
   ]
  },
  {
   "cell_type": "code",
   "execution_count": 20,
   "id": "b8d4be05-b665-461f-8271-4f0e40a744ee",
   "metadata": {},
   "outputs": [
    {
     "name": "stdout",
     "output_type": "stream",
     "text": [
      "Task decomposition involves breaking down a complex task into smaller, manageable steps or subgoals. This can be achieved through simple prompting, task-specific instructions, or human inputs, allowing for structured problem-solving. Techniques like Chain of Thought (CoT) and Tree of Thoughts further enhance this process by maximizing reasoning and exploration of possibilities.\n"
     ]
    }
   ],
   "source": [
    "response = graph.invoke(\n",
    "    {\"question\": \"What is Task Decomposition?\"}\n",
    ")\n",
    "print(response[\"answer\"])"
   ]
  },
  {
   "cell_type": "code",
   "execution_count": 22,
   "id": "4698a632-a259-455c-bc53-be8043442669",
   "metadata": {},
   "outputs": [
    {
     "name": "stdout",
     "output_type": "stream",
     "text": [
      "|Task| decomposition| is| the| process| of| breaking| down| a| complex| task| into| smaller|,| manageable| steps| or| sub|go|als|.| It| can| be| achieved| through| methods| such| as| simple| prompting|,| task|-specific| instructions|,| or| human| inputs|.| This| approach| enhances| problem|-solving| by| allowing| a| more| structured| and| step|-by|-step| execution| of| tasks|.||"
     ]
    }
   ],
   "source": [
    "for message, metadata in graph.stream(\n",
    "    {\"question\": \"What is Task Decomposition?\"}, stream_mode=\"messages\"\n",
    "):\n",
    "    print(message.content, end=\"|\")"
   ]
  },
  {
   "cell_type": "code",
   "execution_count": 25,
   "id": "78be2182-e182-4b31-a911-050a3f91b083",
   "metadata": {},
   "outputs": [
    {
     "data": {
      "text/plain": [
       "{'question': 'What is Task Decomposition?',\n",
       " 'context': [Document(id='9105c31a-ccf3-4edd-a0bc-2a260667e864', metadata={'source': 'https://lilianweng.github.io/posts/2023-06-23-agent/'}, page_content='Task decomposition can be done (1) by LLM with simple prompting like \"Steps for XYZ.\\\\n1.\", \"What are the subgoals for achieving XYZ?\", (2) by using task-specific instructions; e.g. \"Write a story outline.\" for writing a novel, or (3) with human inputs.\\nAnother quite distinct approach, LLM+P (Liu et al. 2023), involves relying on an external classical planner to do long-horizon planning. This approach utilizes the Planning Domain Definition Language (PDDL) as an intermediate interface to describe the planning problem. In this process, LLM (1) translates the problem into “Problem PDDL”, then (2) requests a classical planner to generate a PDDL plan based on an existing “Domain PDDL”, and finally (3) translates the PDDL plan back into natural language. Essentially, the planning step is outsourced to an external tool, assuming the availability of domain-specific PDDL and a suitable planner which is common in certain robotic setups but not in many other domains.\\nSelf-Reflection#'),\n",
       "  Document(id='2a0bf7d2-ee3d-4bb1-bba0-a1fd55a44643', metadata={'source': 'https://lilianweng.github.io/posts/2023-06-23-agent/'}, page_content='Component One: Planning#\\nA complicated task usually involves many steps. An agent needs to know what they are and plan ahead.\\nTask Decomposition#\\nChain of thought (CoT; Wei et al. 2022) has become a standard prompting technique for enhancing model performance on complex tasks. The model is instructed to “think step by step” to utilize more test-time computation to decompose hard tasks into smaller and simpler steps. CoT transforms big tasks into multiple manageable tasks and shed lights into an interpretation of the model’s thinking process.\\nTree of Thoughts (Yao et al. 2023) extends CoT by exploring multiple reasoning possibilities at each step. It first decomposes the problem into multiple thought steps and generates multiple thoughts per step, creating a tree structure. The search process can be BFS (breadth-first search) or DFS (depth-first search) with each state evaluated by a classifier (via a prompt) or majority vote.'),\n",
       "  Document(id='c94bdffb-e6e8-48c0-8693-2c18d5067624', metadata={'source': 'https://lilianweng.github.io/posts/2023-06-23-agent/'}, page_content='The AI assistant can parse user input to several tasks: [{\"task\": task, \"id\", task_id, \"dep\": dependency_task_ids, \"args\": {\"text\": text, \"image\": URL, \"audio\": URL, \"video\": URL}}]. The \"dep\" field denotes the id of the previous task which generates a new resource that the current task relies on. A special tag \"-task_id\" refers to the generated text image, audio and video in the dependency task with id as task_id. The task MUST be selected from the following options: {{ Available Task List }}. There is a logical relationship between tasks, please note their order. If the user input can\\'t be parsed, you need to reply empty JSON. Here are several cases for your reference: {{ Demonstrations }}. The chat history is recorded as {{ Chat History }}. From this chat history, you can find the path of the user-mentioned resources for your task planning.'),\n",
       "  Document(id='e58e914a-9aa9-44e9-9f9c-b530b16a90a5', metadata={'source': 'https://lilianweng.github.io/posts/2023-06-23-agent/'}, page_content='Illustration of how HuggingGPT works. (Image source: Shen et al. 2023)\\n\\nThe system comprises of 4 stages:\\n(1) Task planning: LLM works as the brain and parses the user requests into multiple tasks. There are four attributes associated with each task: task type, ID, dependencies, and arguments. They use few-shot examples to guide LLM to do task parsing and planning.\\nInstruction:')],\n",
       " 'answer': 'Task decomposition is the process of breaking down a complex task into smaller, manageable steps or subgoals. This can be achieved through various methods, including simple prompting, task-specific instructions, or human inputs. It enhances planning and execution by allowing more structured and clear progress towards achieving the overall goal.'}"
      ]
     },
     "execution_count": 25,
     "metadata": {},
     "output_type": "execute_result"
    }
   ],
   "source": [
    "result = await graph.ainvoke(\n",
    "    {\"question\": \"What is Task Decomposition?\"}\n",
    ")\n",
    "\n",
    "result"
   ]
  },
  {
   "cell_type": "code",
   "execution_count": null,
   "id": "c93bcf9d-3b92-423f-8ed6-f936a8819b7b",
   "metadata": {},
   "outputs": [],
   "source": []
  }
 ],
 "metadata": {
  "kernelspec": {
   "display_name": "Python 3 (ipykernel)",
   "language": "python",
   "name": "python3"
  },
  "language_info": {
   "codemirror_mode": {
    "name": "ipython",
    "version": 3
   },
   "file_extension": ".py",
   "mimetype": "text/x-python",
   "name": "python",
   "nbconvert_exporter": "python",
   "pygments_lexer": "ipython3",
   "version": "3.12.2"
  }
 },
 "nbformat": 4,
 "nbformat_minor": 5
}
