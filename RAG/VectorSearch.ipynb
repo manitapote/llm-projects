{
 "cells": [
  {
   "cell_type": "markdown",
   "id": "9076f6ef-ce17-4e25-9fed-a1b4cb560614",
   "metadata": {},
   "source": [
    "#### **This is the vector search function exploration**"
   ]
  },
  {
   "cell_type": "code",
   "execution_count": null,
   "id": "8a257022-9ed1-4849-930d-67123d5c437e",
   "metadata": {},
   "outputs": [],
   "source": []
  }
 ],
 "metadata": {
  "kernelspec": {
   "display_name": "Python 3 (ipykernel)",
   "language": "python",
   "name": "python3"
  },
  "language_info": {
   "codemirror_mode": {
    "name": "ipython",
    "version": 3
   },
   "file_extension": ".py",
   "mimetype": "text/x-python",
   "name": "python",
   "nbconvert_exporter": "python",
   "pygments_lexer": "ipython3",
   "version": "3.12.2"
  }
 },
 "nbformat": 4,
 "nbformat_minor": 5
}
