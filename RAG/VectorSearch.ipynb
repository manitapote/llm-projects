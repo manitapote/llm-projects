{
 "cells": [
  {
   "cell_type": "markdown",
   "id": "9076f6ef-ce17-4e25-9fed-a1b4cb560614",
   "metadata": {},
   "source": [
    "#### **This is the vector search function exploration**"
   ]
  },
  {
   "cell_type": "code",
   "execution_count": 1,
   "id": "8a257022-9ed1-4849-930d-67123d5c437e",
   "metadata": {},
   "outputs": [],
   "source": [
    "from langchain_core.vectorstores import InMemoryVectorStore\n",
    "from langchain_openai import OpenAIEmbeddings\n",
    "\n",
    "vector_store = InMemoryVectorStore(OpenAIEmbeddings())"
   ]
  },
  {
   "cell_type": "code",
   "execution_count": 18,
   "id": "59a8cd5c-d828-42a0-ac6b-44d3d15e6e1a",
   "metadata": {},
   "outputs": [
    {
     "data": {
      "text/plain": [
       "['1', '2', '3']"
      ]
     },
     "execution_count": 18,
     "metadata": {},
     "output_type": "execute_result"
    }
   ],
   "source": [
    "from langchain_core.documents import Document\n",
    "\n",
    "document_1 = Document(id=\"1\", \n",
    "                      page_content=\"foo\", \n",
    "                      metadata={\"baz\": \"baz\"}\n",
    "                     )\n",
    "document_2 = Document(id=\"2\", \n",
    "                      page_content=\"thud\", \n",
    "                      metadata={\"bar\": \"baz\"}\n",
    "                     )\n",
    "document_3 = Document(id=\"3\", \n",
    "                      page_content=\"i will be deleted :(\",\n",
    "                      metadata={\"bar\": \"baz\"}\n",
    "                     )\n",
    "\n",
    "documents = [document_1, document_2, document_3]\n",
    "vector_store.add_documents(documents=documents)"
   ]
  },
  {
   "cell_type": "code",
   "execution_count": 19,
   "id": "ab536de1-e795-49c2-bd03-46a6f5d5dd0c",
   "metadata": {},
   "outputs": [
    {
     "name": "stdout",
     "output_type": "stream",
     "text": [
      "0 1 dict_keys(['id', 'vector', 'text', 'metadata'])\n",
      "foo\n",
      "1 2 dict_keys(['id', 'vector', 'text', 'metadata'])\n",
      "thud\n",
      "2 3 dict_keys(['id', 'vector', 'text', 'metadata'])\n",
      "i will be deleted :(\n"
     ]
    }
   ],
   "source": [
    "top_n = 10\n",
    "for index, (id, doc) in enumerate(vector_store.store.items()):\n",
    "    print(index, id, doc.keys())\n",
    "    print(doc['text'])"
   ]
  },
  {
   "cell_type": "code",
   "execution_count": 20,
   "id": "ffb52c2e-1a37-43f6-8070-869815d9e4c0",
   "metadata": {},
   "outputs": [
    {
     "name": "stdout",
     "output_type": "stream",
     "text": [
      "page_content='thud' metadata={'bar': 'baz'}\n",
      "* thud [{'bar': 'baz'}]\n",
      "page_content='foo' metadata={'baz': 'baz'}\n",
      "* foo [{'baz': 'baz'}]\n"
     ]
    }
   ],
   "source": [
    "results = vector_store.similarity_search(query=\"thud\", k=2)\n",
    "for doc in results:\n",
    "    print(doc)\n",
    "    print(f\"* {doc.page_content} [{doc.metadata}]\")"
   ]
  },
  {
   "cell_type": "markdown",
   "id": "d38f7761-7b68-46e8-8396-bd7fdd877a26",
   "metadata": {},
   "source": [
    "#### **Search with filter**"
   ]
  },
  {
   "cell_type": "code",
   "execution_count": 21,
   "id": "d0092503-e5a3-41a9-a3c1-5fa6bc9457e0",
   "metadata": {},
   "outputs": [
    {
     "name": "stdout",
     "output_type": "stream",
     "text": [
      "* thud [{'bar': 'baz'}]\n",
      "* i will be deleted :( [{'bar': 'baz'}]\n"
     ]
    }
   ],
   "source": [
    "def _filter_function(doc: Document) -> bool:\n",
    "    return doc.metadata.get(\"bar\") == \"baz\"\n",
    "\n",
    "results = vector_store.similarity_search(\n",
    "    query=\"thud\", k=2, filter=_filter_function\n",
    ")\n",
    "for doc in results:\n",
    "    print(f\"* {doc.page_content} [{doc.metadata}]\")"
   ]
  },
  {
   "cell_type": "markdown",
   "id": "2f9db23b-10c8-4be0-a7bf-95b66d19588e",
   "metadata": {},
   "source": [
    "#### **Search with score**"
   ]
  },
  {
   "cell_type": "code",
   "execution_count": 24,
   "id": "71d6c0f7-9928-4a6c-b449-58220c01c6ff",
   "metadata": {},
   "outputs": [
    {
     "name": "stdout",
     "output_type": "stream",
     "text": [
      "* [SIM=0.855233] thud [{'bar': 'baz'}]\n"
     ]
    }
   ],
   "source": [
    "results = vector_store.similarity_search_with_score(\n",
    "    query=\"thug\",\n",
    "    k=1\n",
    ")\n",
    "for doc, score in results:\n",
    "    print(f\"* [SIM={score:3f}] {doc.page_content} [{doc.metadata}]\")"
   ]
  },
  {
   "cell_type": "markdown",
   "id": "bff45cea-93cb-4d55-aefc-edab081f114d",
   "metadata": {},
   "source": [
    "#### **Async**"
   ]
  },
  {
   "cell_type": "code",
   "execution_count": 26,
   "id": "8014b134-5db9-4545-a69a-f0bf05c2caf5",
   "metadata": {},
   "outputs": [
    {
     "name": "stdout",
     "output_type": "stream",
     "text": [
      "* [SIM=0.832237] foo [{'baz': 'baz'}]\n"
     ]
    }
   ],
   "source": [
    "# search with score\n",
    "results = await vector_store.asimilarity_search_with_score(query=\"qux\", k=1)\n",
    "for doc,score in results:\n",
    "    print(f\"* [SIM={score:3f}] {doc.page_content} [{doc.metadata}]\")"
   ]
  },
  {
   "cell_type": "code",
   "execution_count": null,
   "id": "4ea3ece2-8c26-4891-82a4-28736acf68da",
   "metadata": {},
   "outputs": [],
   "source": []
  }
 ],
 "metadata": {
  "kernelspec": {
   "display_name": "Python 3 (ipykernel)",
   "language": "python",
   "name": "python3"
  },
  "language_info": {
   "codemirror_mode": {
    "name": "ipython",
    "version": 3
   },
   "file_extension": ".py",
   "mimetype": "text/x-python",
   "name": "python",
   "nbconvert_exporter": "python",
   "pygments_lexer": "ipython3",
   "version": "3.12.2"
  }
 },
 "nbformat": 4,
 "nbformat_minor": 5
}
